{
  "nbformat": 4,
  "nbformat_minor": 0,
  "metadata": {
    "colab": {
      "provenance": [],
      "authorship_tag": "ABX9TyN/0E+/nnnZ/kdRttzsfAoq",
      "include_colab_link": true
    },
    "kernelspec": {
      "name": "python3",
      "display_name": "Python 3"
    },
    "language_info": {
      "name": "python"
    }
  },
  "cells": [
    {
      "cell_type": "markdown",
      "metadata": {
        "id": "view-in-github",
        "colab_type": "text"
      },
      "source": [
        "<a href=\"https://colab.research.google.com/github/RendiZein/SeminarAI_PRTA/blob/main/Python_Introduction.ipynb\" target=\"_parent\"><img src=\"https://colab.research.google.com/assets/colab-badge.svg\" alt=\"Open In Colab\"/></a>"
      ]
    },
    {
      "cell_type": "markdown",
      "source": [
        "# Variabel"
      ],
      "metadata": {
        "id": "iyR8xs7tX1C_"
      }
    },
    {
      "cell_type": "markdown",
      "source": [
        "Variabel adalah objek untuk menyimpan data sementara menggunakan `=`\n",
        "* `#` komentar\n",
        "* `print()` untuk menampilkan variabel"
      ],
      "metadata": {
        "id": "cf0R3iCuX_uT"
      }
    },
    {
      "cell_type": "code",
      "source": [
        "x = 1 # menyimpan 1 pada"
      ],
      "metadata": {
        "id": "tA60ntYGX_eO"
      },
      "execution_count": null,
      "outputs": []
    },
    {
      "cell_type": "code",
      "source": [
        "print(x) # menampilkan variabel x"
      ],
      "metadata": {
        "colab": {
          "base_uri": "https://localhost:8080/"
        },
        "id": "kg1Au4LWMxq0",
        "outputId": "5d4291a1-d24a-488b-f7f2-dadb6a0553b3"
      },
      "execution_count": null,
      "outputs": [
        {
          "output_type": "stream",
          "name": "stdout",
          "text": [
            "1\n"
          ]
        }
      ]
    },
    {
      "cell_type": "code",
      "source": [
        "x = 3 #update variabel x\n",
        "print(x) # menampilkan variabel x"
      ],
      "metadata": {
        "colab": {
          "base_uri": "https://localhost:8080/"
        },
        "id": "N8TCleuTMzPh",
        "outputId": "40764e6c-aa21-4ad7-ebbf-a973477732f1"
      },
      "execution_count": null,
      "outputs": [
        {
          "output_type": "stream",
          "name": "stdout",
          "text": [
            "3\n"
          ]
        }
      ]
    },
    {
      "cell_type": "markdown",
      "source": [
        "# Data types"
      ],
      "metadata": {
        "id": "CSizBu1wN-rD"
      }
    },
    {
      "cell_type": "markdown",
      "source": [
        "* Text Type:\tstr\n",
        "* Numeric Types:\tint, float, complex\n",
        "* Sequence Types:\tlist, tuple\n",
        "* Mapping Type:\tdict\n",
        "* Boolean Type:\tbool\n",
        "\n"
      ],
      "metadata": {
        "id": "1Q1CpRU_OCT1"
      }
    },
    {
      "cell_type": "code",
      "execution_count": null,
      "metadata": {
        "id": "oFEZC9BnXnvs",
        "colab": {
          "base_uri": "https://localhost:8080/",
          "height": 109
        },
        "outputId": "43dadbdc-0676-442f-e2d8-2a0c6ed119ff"
      },
      "outputs": [
        {
          "output_type": "error",
          "ename": "SyntaxError",
          "evalue": "invalid syntax. Perhaps you forgot a comma? (<ipython-input-5-ef1c86d20c11>, line 1)",
          "traceback": [
            "\u001b[0;36m  File \u001b[0;32m\"<ipython-input-5-ef1c86d20c11>\"\u001b[0;36m, line \u001b[0;32m1\u001b[0m\n\u001b[0;31m    print(Badan Riset dan Inovasi Nasional)\u001b[0m\n\u001b[0m          ^\u001b[0m\n\u001b[0;31mSyntaxError\u001b[0m\u001b[0;31m:\u001b[0m invalid syntax. Perhaps you forgot a comma?\n"
          ]
        }
      ],
      "source": [
        "print(Badan Riset dan Inovasi Nasional)"
      ]
    },
    {
      "cell_type": "code",
      "source": [
        "print(\"Badan Riset dan Inovasi Nasional\")"
      ],
      "metadata": {
        "colab": {
          "base_uri": "https://localhost:8080/"
        },
        "id": "_Fhb0kMgOam_",
        "outputId": "0dae83aa-c683-429d-a1ec-8bf31d2a3e00"
      },
      "execution_count": null,
      "outputs": [
        {
          "output_type": "stream",
          "name": "stdout",
          "text": [
            "Badan Riset dan Inovasi Nasional\n"
          ]
        }
      ]
    },
    {
      "cell_type": "code",
      "source": [
        "a=3\n",
        "b=2.1\n",
        "c='5'\n",
        "d= 2+1j"
      ],
      "metadata": {
        "id": "HssaKPiVOgHy"
      },
      "execution_count": null,
      "outputs": []
    },
    {
      "cell_type": "code",
      "source": [
        "print(a+b)"
      ],
      "metadata": {
        "colab": {
          "base_uri": "https://localhost:8080/"
        },
        "id": "xBWTcG1WO-0Q",
        "outputId": "426bc230-6d47-4f8c-8f45-ccd6e36cc6f2"
      },
      "execution_count": null,
      "outputs": [
        {
          "output_type": "stream",
          "name": "stdout",
          "text": [
            "5.1\n"
          ]
        }
      ]
    },
    {
      "cell_type": "code",
      "source": [
        "print(a+c)"
      ],
      "metadata": {
        "colab": {
          "base_uri": "https://localhost:8080/",
          "height": 145
        },
        "id": "qXgQeIrFPEki",
        "outputId": "60ee8de9-d0f6-4983-81ef-12de55499858"
      },
      "execution_count": null,
      "outputs": [
        {
          "output_type": "error",
          "ename": "TypeError",
          "evalue": "unsupported operand type(s) for +: 'int' and 'str'",
          "traceback": [
            "\u001b[0;31m---------------------------------------------------------------------------\u001b[0m",
            "\u001b[0;31mTypeError\u001b[0m                                 Traceback (most recent call last)",
            "\u001b[0;32m<ipython-input-12-29620a3af8d7>\u001b[0m in \u001b[0;36m<cell line: 1>\u001b[0;34m()\u001b[0m\n\u001b[0;32m----> 1\u001b[0;31m \u001b[0mprint\u001b[0m\u001b[0;34m(\u001b[0m\u001b[0ma\u001b[0m\u001b[0;34m+\u001b[0m\u001b[0mc\u001b[0m\u001b[0;34m)\u001b[0m\u001b[0;34m\u001b[0m\u001b[0;34m\u001b[0m\u001b[0m\n\u001b[0m",
            "\u001b[0;31mTypeError\u001b[0m: unsupported operand type(s) for +: 'int' and 'str'"
          ]
        }
      ]
    },
    {
      "cell_type": "code",
      "source": [
        "print(a+d)"
      ],
      "metadata": {
        "colab": {
          "base_uri": "https://localhost:8080/"
        },
        "id": "qySANph9PJUp",
        "outputId": "cbbf6185-faaf-44be-9647-b85f1038f594"
      },
      "execution_count": null,
      "outputs": [
        {
          "output_type": "stream",
          "name": "stdout",
          "text": [
            "(5+1j)\n"
          ]
        }
      ]
    },
    {
      "cell_type": "code",
      "source": [
        "print(a**a)"
      ],
      "metadata": {
        "colab": {
          "base_uri": "https://localhost:8080/"
        },
        "id": "JgcfX_UBQOm6",
        "outputId": "13fd6698-203d-44a1-934a-984a83748aee"
      },
      "execution_count": null,
      "outputs": [
        {
          "output_type": "stream",
          "name": "stdout",
          "text": [
            "27\n"
          ]
        }
      ]
    },
    {
      "cell_type": "code",
      "source": [
        "e=True\n",
        "f=False\n",
        "print(f\"Penjumlahan \")\n",
        "print(e+f)\n",
        "print(e-f)\n",
        "print(e*f)"
      ],
      "metadata": {
        "colab": {
          "base_uri": "https://localhost:8080/"
        },
        "id": "V3NVCMFwPWGZ",
        "outputId": "5210987f-ebac-46c0-ac0b-c120e7f2be26"
      },
      "execution_count": null,
      "outputs": [
        {
          "output_type": "stream",
          "name": "stdout",
          "text": [
            "Penjumlahan \n",
            "1\n",
            "1\n",
            "0\n"
          ]
        }
      ]
    },
    {
      "cell_type": "markdown",
      "source": [
        "# Lists, tuples and dictionaries"
      ],
      "metadata": {
        "id": "0HIJHVQCQe0A"
      }
    },
    {
      "cell_type": "markdown",
      "source": [
        "## List\n",
        "\n",
        "`List` adalah struktur data yang dapat diubah\n",
        "* Index pada python dimulai dengan 0 (0,1,2,3,...)\n",
        "* `[start:stop:step]`\n"
      ],
      "metadata": {
        "id": "ZEFt2QC-QpbO"
      }
    },
    {
      "cell_type": "code",
      "source": [
        "some_list = [1, \"test\", 1+1j]"
      ],
      "metadata": {
        "id": "nRn8uOxQtZsU"
      },
      "execution_count": null,
      "outputs": []
    },
    {
      "cell_type": "code",
      "source": [
        "print(some_list[0])\n",
        "print(some_list[2])"
      ],
      "metadata": {
        "id": "pcOBHZw7tawi"
      },
      "execution_count": null,
      "outputs": []
    },
    {
      "cell_type": "code",
      "source": [
        "print(some_list[-1])"
      ],
      "metadata": {
        "id": "Gjp0QwZ8tbj_"
      },
      "execution_count": null,
      "outputs": []
    },
    {
      "cell_type": "code",
      "source": [
        "del some_list[2]\n",
        "print(some_list)\n",
        "some_list.append(1.0)\n",
        "print(some_list)\n",
        "print(\"List has\", len(some_list), \"elements\")"
      ],
      "metadata": {
        "id": "uiwgBtcitcV3"
      },
      "execution_count": null,
      "outputs": []
    },
    {
      "cell_type": "code",
      "source": [
        "some_list = [0, 1, 2, 3, 4, 5, 6, 7, 8, 9]\n",
        "\n",
        "print(some_list[2:5])\n",
        "print(some_list[3:8:2])"
      ],
      "metadata": {
        "id": "e2c-CnKXtdjV"
      },
      "execution_count": null,
      "outputs": []
    },
    {
      "cell_type": "code",
      "source": [
        "print(some_list[::2])"
      ],
      "metadata": {
        "id": "VzOkm-nLtfDa"
      },
      "execution_count": null,
      "outputs": []
    },
    {
      "cell_type": "code",
      "source": [],
      "metadata": {
        "id": "cvJvUPtMthOt"
      },
      "execution_count": null,
      "outputs": []
    },
    {
      "cell_type": "markdown",
      "source": [
        "## Tuples"
      ],
      "metadata": {
        "id": "uioqNgmCQsAu"
      }
    },
    {
      "cell_type": "markdown",
      "source": [
        "`Tuples` adalah struktur data yang tidak dapat diubah"
      ],
      "metadata": {
        "id": "NmfME1CaRMhk"
      }
    },
    {
      "cell_type": "code",
      "source": [
        "t = (1, 2, 3, 4, 5)\n",
        "print(t)\n",
        "print(t[1:4:2])"
      ],
      "metadata": {
        "id": "ZQ0XX86itilu"
      },
      "execution_count": null,
      "outputs": []
    },
    {
      "cell_type": "code",
      "source": [
        "# Will throw an error\n",
        "t[0] = 3"
      ],
      "metadata": {
        "id": "UFXfK88jtmFW"
      },
      "execution_count": null,
      "outputs": []
    },
    {
      "cell_type": "code",
      "source": [
        "not_a_tuple = ('car')\n",
        "is_a_tuple = ('car',)\n",
        "print(type(not_a_tuple))\n",
        "print(type(is_a_tuple))"
      ],
      "metadata": {
        "id": "55TmZ4YttnS8"
      },
      "execution_count": null,
      "outputs": []
    },
    {
      "cell_type": "code",
      "source": [
        "some_dict = {1: \"some entry\", \"key\": 1.0}\n",
        "\n",
        "print(some_dict[\"key\"])\n",
        "some_dict[8] = \"something\"\n",
        "del some_dict[1]\n",
        "print(some_dict)"
      ],
      "metadata": {
        "id": "xpqizq-UtoqD"
      },
      "execution_count": null,
      "outputs": []
    },
    {
      "cell_type": "code",
      "source": [
        "not_a_tuple = ('car')\n",
        "is_a_tuple = ('car',)\n",
        "print(type(not_a_tuple))\n",
        "print(type(is_a_tuple))"
      ],
      "metadata": {
        "id": "qEglWnSctsDW"
      },
      "execution_count": null,
      "outputs": []
    },
    {
      "cell_type": "markdown",
      "source": [
        "## Dictionaries"
      ],
      "metadata": {
        "id": "899rb4G1QtiH"
      }
    },
    {
      "cell_type": "markdown",
      "source": [
        "`Dictionaries` adalah struktur data yang berupa `key:value` dan dapat diubah"
      ],
      "metadata": {
        "id": "9GXi0SPvRUKO"
      }
    },
    {
      "cell_type": "code",
      "source": [
        "some_dict = {1: \"some entry\", \"key\": 1.0}\n",
        "\n",
        "print(some_dict[\"key\"])\n",
        "some_dict[8] = \"something\"\n",
        "del some_dict[1]\n",
        "print(some_dict)"
      ],
      "metadata": {
        "id": "E2_HWooEtyyF"
      },
      "execution_count": null,
      "outputs": []
    },
    {
      "cell_type": "code",
      "source": [
        "print(some_dict.keys())\n",
        "print(some_dict.values())"
      ],
      "metadata": {
        "id": "4pVDLkWUtz7e"
      },
      "execution_count": null,
      "outputs": []
    },
    {
      "cell_type": "code",
      "source": [
        "print(some_dict.items())"
      ],
      "metadata": {
        "id": "8nLgipiDt0vz"
      },
      "execution_count": null,
      "outputs": []
    },
    {
      "cell_type": "markdown",
      "source": [
        "# Conditional Statements"
      ],
      "metadata": {
        "id": "__Uuz_Uxt1x-"
      }
    },
    {
      "cell_type": "code",
      "source": [
        "i = 10\n",
        "\n",
        "if i < 5:\n",
        "    print(\"i is smaller than 5\")\n",
        "elif 5 <= i < 10:\n",
        "    print(\"i is bigger than 4 but smaller than 10\")\n",
        "else:\n",
        "    print(\"i is larger than 9\")"
      ],
      "metadata": {
        "id": "I8INwiOwt7dN"
      },
      "execution_count": null,
      "outputs": []
    },
    {
      "cell_type": "code",
      "source": [
        "i = 1\n",
        "\n",
        "if i == 1 or i == 2:\n",
        "    print(\"i is 1 or 2\")\n",
        "elif i > 3 and i < 5:\n",
        "    print(\"i is 4\")"
      ],
      "metadata": {
        "id": "2XspbZGJQolH"
      },
      "execution_count": null,
      "outputs": []
    },
    {
      "cell_type": "markdown",
      "source": [
        "# Loop"
      ],
      "metadata": {
        "id": "P7UPjasHuC20"
      }
    },
    {
      "cell_type": "markdown",
      "source": [
        "## For"
      ],
      "metadata": {
        "id": "95DfIp-KuGDB"
      }
    },
    {
      "cell_type": "code",
      "source": [
        "for i in range(10):\n",
        "    print(i)"
      ],
      "metadata": {
        "id": "zOb_OyVBuJoa"
      },
      "execution_count": null,
      "outputs": []
    },
    {
      "cell_type": "code",
      "source": [
        "a = 0\n",
        "for i in range(10):\n",
        "    a += i\n",
        "    print(a)"
      ],
      "metadata": {
        "id": "7Edb0D0MuKnS"
      },
      "execution_count": null,
      "outputs": []
    },
    {
      "cell_type": "code",
      "source": [
        "some_list = [1, \"text\", 5, 1.0]\n",
        "\n",
        "for entry in some_list:\n",
        "    print(entry)"
      ],
      "metadata": {
        "id": "jW2UjWR4uL3b"
      },
      "execution_count": null,
      "outputs": []
    },
    {
      "cell_type": "code",
      "source": [
        "N = 2\n",
        "for i in range(N):\n",
        "    for j in range(N):\n",
        "        print(i, j)"
      ],
      "metadata": {
        "id": "ZiLSMJLcuM6B"
      },
      "execution_count": null,
      "outputs": []
    },
    {
      "cell_type": "markdown",
      "source": [
        "## While"
      ],
      "metadata": {
        "id": "FKnzX71KuEr9"
      }
    },
    {
      "cell_type": "code",
      "source": [
        "i = 1\n",
        "while i < 50:\n",
        "    print(i)\n",
        "    i = i * 2"
      ],
      "metadata": {
        "id": "2aE-T38nPzuK"
      },
      "execution_count": null,
      "outputs": []
    },
    {
      "cell_type": "markdown",
      "source": [
        "# Functions"
      ],
      "metadata": {
        "id": "dn3t71NMuVBB"
      }
    },
    {
      "cell_type": "code",
      "source": [
        "def some_function(x, y):\n",
        "    c = x + y\n",
        "    return c"
      ],
      "metadata": {
        "id": "PAdO66nnuX6c"
      },
      "execution_count": 1,
      "outputs": []
    },
    {
      "cell_type": "code",
      "source": [
        "print(some_function(1, 3))\n",
        "print(some_function(1, 1.4))"
      ],
      "metadata": {
        "id": "gFe6pCSMuqax",
        "outputId": "c8b5eb22-d8a1-490e-e2e1-6232b7a614e5",
        "colab": {
          "base_uri": "https://localhost:8080/"
        }
      },
      "execution_count": 2,
      "outputs": [
        {
          "output_type": "stream",
          "name": "stdout",
          "text": [
            "4\n",
            "2.4\n"
          ]
        }
      ]
    },
    {
      "cell_type": "code",
      "source": [
        "def another_function(x, y=10):\n",
        "    print(\"x =\", x)\n",
        "    print(\"y =\", y)\n",
        "    print()\n",
        "\n",
        "another_function(1)\n",
        "another_function(y=1, x=10)"
      ],
      "metadata": {
        "id": "yDNlpj9yus3l"
      },
      "execution_count": null,
      "outputs": []
    },
    {
      "cell_type": "code",
      "source": [
        "def print_function(x):\n",
        "    print(\"The value x =\", x)\n",
        "\n",
        "pfun = print_function\n",
        "pfun(1)"
      ],
      "metadata": {
        "id": "n31Q8RpIut8h"
      },
      "execution_count": null,
      "outputs": []
    },
    {
      "cell_type": "code",
      "source": [
        "def some_function(x, p_fun):\n",
        "    p_fun(x)\n",
        "\n",
        "some_function(1, print_function)"
      ],
      "metadata": {
        "id": "KEcKFb3Wuuvy"
      },
      "execution_count": null,
      "outputs": []
    },
    {
      "cell_type": "markdown",
      "source": [
        "# Latihan\n",
        "\n",
        "Jika kita membuat daftar bilangan di bawah 10 yang merupakan kelipatan dari 3 atau 7, kita akan memperoleh angka 3, 6, 7 dan 9. Jumlahan dari bilangan-bilangan tersebut adalah 25. Carilah jumlahan dari semua bilangan kelipatan 3 atau 7 di bawah 10000."
      ],
      "metadata": {
        "id": "D9RfJfDP7pey"
      }
    },
    {
      "cell_type": "code",
      "source": [
        "import numpy as np"
      ],
      "metadata": {
        "id": "RRDxNMqZ766H"
      },
      "execution_count": null,
      "outputs": []
    },
    {
      "cell_type": "code",
      "source": [
        "def nomor4(n): #fungsi dengan masukkan n (nilai yang ingin dicari)\n",
        "  lt=[]\n",
        "  for i in range(n): # menggybakan\n",
        "    if i%3==0 or i%7==0: #cek apakah modulo (hasil bagi)\n",
        "      lt.__(i) #simpan jika modulo nya nol\n",
        "  lt_sum=np.sum(lt) #jumlah bilangan pada list nya\n",
        "  print(\"Jumlah bilangan di bawah {} yang merupakan kelipatan 7 atau 3 adalah {}\".format(n, lt_sum))"
      ],
      "metadata": {
        "id": "ObdsEBEv7tY3"
      },
      "execution_count": null,
      "outputs": []
    }
  ]
}