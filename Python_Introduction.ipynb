{
  "nbformat": 4,
  "nbformat_minor": 0,
  "metadata": {
    "colab": {
      "provenance": [],
      "authorship_tag": "ABX9TyNrOBS8/mpVIAR+vnJ8iB4D",
      "include_colab_link": true
    },
    "kernelspec": {
      "name": "python3",
      "display_name": "Python 3"
    },
    "language_info": {
      "name": "python"
    }
  },
  "cells": [
    {
      "cell_type": "markdown",
      "metadata": {
        "id": "view-in-github",
        "colab_type": "text"
      },
      "source": [
        "<a href=\"https://colab.research.google.com/github/RendiZein/SeminarAI_PRTA/blob/main/Python_Introduction.ipynb\" target=\"_parent\"><img src=\"https://colab.research.google.com/assets/colab-badge.svg\" alt=\"Open In Colab\"/></a>"
      ]
    },
    {
      "cell_type": "markdown",
      "source": [
        "# Variabel"
      ],
      "metadata": {
        "id": "iyR8xs7tX1C_"
      }
    },
    {
      "cell_type": "markdown",
      "source": [
        "Variabel adalah objek untuk menyimpan data sementara"
      ],
      "metadata": {
        "id": "cf0R3iCuX_uT"
      }
    },
    {
      "cell_type": "code",
      "source": [],
      "metadata": {
        "id": "tA60ntYGX_eO"
      },
      "execution_count": null,
      "outputs": []
    },
    {
      "cell_type": "code",
      "execution_count": null,
      "metadata": {
        "id": "oFEZC9BnXnvs"
      },
      "outputs": [],
      "source": []
    }
  ]
}